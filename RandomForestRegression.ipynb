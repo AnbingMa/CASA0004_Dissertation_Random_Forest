{
 "cells": [
  {
   "cell_type": "code",
   "execution_count": 1,
   "id": "eb640db9-cb69-46cc-b63f-71448a16847b",
   "metadata": {},
   "outputs": [
    {
     "name": "stderr",
     "output_type": "stream",
     "text": [
      "/opt/anaconda3/lib/python3.8/site-packages/statsmodels/tsa/base/tsa_model.py:7: FutureWarning: pandas.Int64Index is deprecated and will be removed from pandas in a future version. Use pandas.Index with the appropriate dtype instead.\n",
      "  from pandas import (to_datetime, Int64Index, DatetimeIndex, Period,\n",
      "/opt/anaconda3/lib/python3.8/site-packages/statsmodels/tsa/base/tsa_model.py:7: FutureWarning: pandas.Float64Index is deprecated and will be removed from pandas in a future version. Use pandas.Index with the appropriate dtype instead.\n",
      "  from pandas import (to_datetime, Int64Index, DatetimeIndex, Period,\n"
     ]
    }
   ],
   "source": [
    "import numpy as np\n",
    "import matplotlib.pyplot as plt\n",
    "import pandas as pd\n",
    "import sklearn\n",
    "from sklearn.linear_model import LinearRegression\n",
    "from sklearn.model_selection import train_test_split\n",
    "import statsmodels.api as sm\n",
    "from sklearn.ensemble import RandomForestRegressor\n",
    "\n",
    "from sklearn.metrics import mean_squared_error  # MSE\n",
    "from sklearn.metrics import mean_absolute_error  # MAE"
   ]
  },
  {
   "cell_type": "code",
   "execution_count": 2,
   "id": "c5379ba7-2eb1-467b-8fc2-7998b51111ed",
   "metadata": {},
   "outputs": [],
   "source": [
    "df = pd.read_csv('/Users/maanbing/Documents/UCL/CASA0004/data/new_project/csvfile/DatasetByWard.csv')"
   ]
  },
  {
   "cell_type": "code",
   "execution_count": 3,
   "id": "377cde03-6f05-4690-9a63-39e94394b810",
   "metadata": {},
   "outputs": [
    {
     "name": "stdout",
     "output_type": "stream",
     "text": [
      "<class 'pandas.core.frame.DataFrame'>\n",
      "RangeIndex: 111 entries, 0 to 110\n",
      "Data columns (total 24 columns):\n",
      " #   Column                                                             Non-Null Count  Dtype  \n",
      "---  ------                                                             --------------  -----  \n",
      " 0   ADI_percent                                                        111 non-null    float64\n",
      " 1   building area median                                               111 non-null    float64\n",
      " 2   building density                                                   111 non-null    float64\n",
      " 3   median age                                                         111 non-null    float64\n",
      " 4   population density                                                 111 non-null    float64\n",
      " 5   English speakers                                                   111 non-null    float64\n",
      " 6   Afrikaans speakers                                                 111 non-null    float64\n",
      " 7   people born in SA                                                  111 non-null    float64\n",
      " 8   Households density                                                 111 non-null    float64\n",
      " 9   Households that are informal dwellings (shacks)                    111 non-null    float64\n",
      " 10  Households fully owned or being paid off                           111 non-null    float64\n",
      " 11  Households with women as their head                                111 non-null    float64\n",
      " 12  Households with heads under 18 years old                           111 non-null    float64\n",
      " 13  Average annual household income                                    111 non-null    int64  \n",
      " 14  getting water from a regional or local service provider            111 non-null    float64\n",
      " 15  Have access to flush or chemical toilets                           111 non-null    float64\n",
      " 16  getting refuse disposal from a local authority or private company  111 non-null    float64\n",
      " 17  Employed                                                           111 non-null    float64\n",
      " 18  Average annual income                                              111 non-null    int64  \n",
      " 19  Households with internet access                                    111 non-null    float64\n",
      " 20  Completed Grade 9 or higher                                        111 non-null    float64\n",
      " 21  Completed Matric or higher                                         111 non-null    float64\n",
      " 22  School-aged children (5 to 17 years old) are in school             111 non-null    float64\n",
      " 23  Of children between 15 and 17 are in the labour force              111 non-null    float64\n",
      "dtypes: float64(22), int64(2)\n",
      "memory usage: 20.9 KB\n"
     ]
    }
   ],
   "source": [
    "df.info()"
   ]
  },
  {
   "cell_type": "code",
   "execution_count": 118,
   "id": "06217e5c-1fb6-446c-8dbf-a6457e927a05",
   "metadata": {},
   "outputs": [],
   "source": [
    "random_state_split = 100\n",
    "train_x, test_x, train_y, test_y = train_test_split(df.drop(['ADI_percent'], axis = 1), df.ADI_percent, test_size = 0.3, random_state=100)"
   ]
  },
  {
   "cell_type": "code",
   "execution_count": 119,
   "id": "6c0695b7-1533-403c-9af7-54cd5f4bbadf",
   "metadata": {},
   "outputs": [
    {
     "name": "stdout",
     "output_type": "stream",
     "text": [
      "(77, 23)\n",
      "(77,)\n",
      "(34, 23)\n",
      "(34,)\n",
      "True\n",
      "True\n"
     ]
    }
   ],
   "source": [
    "print(train_x.shape)\n",
    "print(train_y.shape)\n",
    "print(test_x.shape)\n",
    "print(test_y.shape)\n",
    "\n",
    "# check the index of train_x and train_y - they should be identical. The index indicates which rows from the original data.\n",
    "\n",
    "print(train_x.index.identical(train_y.index))\n",
    "print(test_x.index.identical(test_y.index))"
   ]
  },
  {
   "cell_type": "code",
   "execution_count": 120,
   "id": "d87a068c-e449-4304-a761-994560ca9565",
   "metadata": {},
   "outputs": [
    {
     "name": "stdout",
     "output_type": "stream",
     "text": [
      "<class 'pandas.core.frame.DataFrame'>\n",
      "Int64Index: 77 entries, 20 to 8\n",
      "Data columns (total 23 columns):\n",
      " #   Column                                                             Non-Null Count  Dtype  \n",
      "---  ------                                                             --------------  -----  \n",
      " 0   building area median                                               77 non-null     float64\n",
      " 1   building density                                                   77 non-null     float64\n",
      " 2   median age                                                         77 non-null     float64\n",
      " 3   population density                                                 77 non-null     float64\n",
      " 4   English speakers                                                   77 non-null     float64\n",
      " 5   Afrikaans speakers                                                 77 non-null     float64\n",
      " 6   people born in SA                                                  77 non-null     float64\n",
      " 7   Households density                                                 77 non-null     float64\n",
      " 8   Households that are informal dwellings (shacks)                    77 non-null     float64\n",
      " 9   Households fully owned or being paid off                           77 non-null     float64\n",
      " 10  Households with women as their head                                77 non-null     float64\n",
      " 11  Households with heads under 18 years old                           77 non-null     float64\n",
      " 12  Average annual household income                                    77 non-null     int64  \n",
      " 13  getting water from a regional or local service provider            77 non-null     float64\n",
      " 14  Have access to flush or chemical toilets                           77 non-null     float64\n",
      " 15  getting refuse disposal from a local authority or private company  77 non-null     float64\n",
      " 16  Employed                                                           77 non-null     float64\n",
      " 17  Average annual income                                              77 non-null     int64  \n",
      " 18  Households with internet access                                    77 non-null     float64\n",
      " 19  Completed Grade 9 or higher                                        77 non-null     float64\n",
      " 20  Completed Matric or higher                                         77 non-null     float64\n",
      " 21  School-aged children (5 to 17 years old) are in school             77 non-null     float64\n",
      " 22  Of children between 15 and 17 are in the labour force              77 non-null     float64\n",
      "dtypes: float64(21), int64(2)\n",
      "memory usage: 14.4 KB\n"
     ]
    }
   ],
   "source": [
    "train_x.info()"
   ]
  },
  {
   "cell_type": "code",
   "execution_count": 113,
   "id": "b7a77ce0-8d5d-4056-9ab3-9103f8a70929",
   "metadata": {},
   "outputs": [
    {
     "data": {
      "text/plain": [
       "25    0.047972\n",
       "51    0.045109\n",
       "21    0.078763\n",
       "26    0.007426\n",
       "64    0.043326\n",
       "43    0.063160\n",
       "29    0.050300\n",
       "92    0.080531\n",
       "75    0.049198\n",
       "85    0.090837\n",
       "41    0.055662\n",
       "78    0.089972\n",
       "Name: ADI_percent, dtype: float64"
      ]
     },
     "execution_count": 113,
     "metadata": {},
     "output_type": "execute_result"
    }
   ],
   "source": [
    "test_y.head(12)"
   ]
  },
  {
   "cell_type": "code",
   "execution_count": 131,
   "id": "28b93c50-a5bb-4b85-aecf-b780c51f32c2",
   "metadata": {},
   "outputs": [
    {
     "data": {
      "text/plain": [
       "RandomForestRegressor(max_features=18, n_estimators=150, n_jobs=-1,\n",
       "                      random_state=1)"
      ]
     },
     "execution_count": 131,
     "metadata": {},
     "output_type": "execute_result"
    }
   ],
   "source": [
    "forest = RandomForestRegressor(\n",
    "    n_estimators=150,\n",
    "    max_features= 18,\n",
    "    random_state=1,\n",
    "    n_jobs=-1)\n",
    "forest.fit(train_x, train_y)"
   ]
  },
  {
   "cell_type": "code",
   "execution_count": 132,
   "id": "a2a76976-b0ad-4f21-a149-8ed5b4d526b3",
   "metadata": {},
   "outputs": [
    {
     "name": "stdout",
     "output_type": "stream",
     "text": [
      "随机森林模型得分：  0.6264961492490643\n"
     ]
    }
   ],
   "source": [
    "score = forest.score(test_x, test_y)\n",
    "print('随机森林模型得分： ', score)\n",
    "test_y_pred = forest.predict(test_x)"
   ]
  },
  {
   "cell_type": "code",
   "execution_count": 123,
   "id": "8f80ae72-60e9-41e3-a87b-15e395b8f76d",
   "metadata": {},
   "outputs": [
    {
     "data": {
      "text/plain": [
       "array([0.04276035, 0.06205957, 0.0471509 , 0.01076088, 0.0724874 ,\n",
       "       0.09650508, 0.05982992, 0.07373317, 0.07490936, 0.07404316,\n",
       "       0.07286061, 0.10879957, 0.003156  , 0.07364148, 0.09661172,\n",
       "       0.08466132, 0.01646186, 0.06698648, 0.01028789, 0.07781365,\n",
       "       0.08190219, 0.06697875, 0.11294479, 0.08939098, 0.03008663,\n",
       "       0.06767053, 0.07585483, 0.08769415, 0.05412556, 0.06442336,\n",
       "       0.00658836, 0.08630164, 0.0125945 , 0.00632875])"
      ]
     },
     "execution_count": 123,
     "metadata": {},
     "output_type": "execute_result"
    }
   ],
   "source": [
    "test_y_pred"
   ]
  },
  {
   "cell_type": "code",
   "execution_count": 136,
   "id": "0e509ba4-155f-4508-8034-b7d5b91c7c37",
   "metadata": {
    "tags": []
   },
   "outputs": [
    {
     "name": "stdout",
     "output_type": "stream",
     "text": [
      "随机森林模型得分：  0.6264961492490643\n",
      "Mean Absolute Error: 0.018753340272352943\n",
      "Mean Squared Error: 0.0007487378714217849\n",
      "Root Mean Squared Error: 0.027363074962836045\n"
     ]
    }
   ],
   "source": [
    "print('随机森林模型得分： ', score)\n",
    "print('Mean Absolute Error:', mean_absolute_error(test_y, test_y_pred))\n",
    "print('Mean Squared Error:', mean_squared_error(test_y, test_y_pred))\n",
    "print('Root Mean Squared Error:', np.sqrt(mean_squared_error(test_y, test_y_pred)))"
   ]
  },
  {
   "cell_type": "code",
   "execution_count": 73,
   "id": "27b03b13-3400-4076-b964-439a67118544",
   "metadata": {},
   "outputs": [],
   "source": [
    "import rfpimp"
   ]
  },
  {
   "cell_type": "code",
   "execution_count": 145,
   "id": "3acb3566-5d0c-47a1-bf56-506b7984fa18",
   "metadata": {},
   "outputs": [
    {
     "name": "stdout",
     "output_type": "stream",
     "text": [
      "                                                    Importance\n",
      "Feature                                                       \n",
      "building area median                                  0.106733\n",
      "Households with internet access                       0.043378\n",
      "Households density                                    0.039854\n",
      "getting refuse disposal from a local authority ...    0.025348\n",
      "population density                                    0.024220\n",
      "Households with women as their head                   0.023559\n",
      "Completed Matric or higher                            0.009155\n",
      "Households that are informal dwellings (shacks)       0.007965\n",
      "Households with heads under 18 years old              0.005584\n",
      "Have access to flush or chemical toilets              0.005128\n",
      "Employed                                              0.004406\n",
      "English speakers                                      0.004003\n",
      "Completed Grade 9 or higher                           0.003554\n",
      "Average annual income                                 0.003080\n",
      "School-aged children (5 to 17 years old) are in...    0.003042\n",
      "Of children between 15 and 17 are in the labour...    0.001724\n",
      "Afrikaans speakers                                    0.001231\n",
      "building density                                      0.000738\n",
      "Average annual household income                       0.000625\n",
      "median age                                           -0.000372\n",
      "Households fully owned or being paid off             -0.000678\n",
      "people born in SA                                    -0.001388\n",
      "getting water from a regional or local service ...   -0.006049\n"
     ]
    },
    {
     "name": "stderr",
     "output_type": "stream",
     "text": [
      "/opt/anaconda3/lib/python3.8/site-packages/rfpimp.py:52: UserWarning: Tight layout not applied. The left and right margins cannot be made large enough to accommodate all axes decorations.\n",
      "  plt.tight_layout()\n"
     ]
    },
    {
     "data": {
      "image/png": "[encoded data removed]",
      "text/plain": [
       "<Figure size 288x365.76 with 1 Axes>"
      ]
     },
     "metadata": {
      "needs_background": "light"
     },
     "output_type": "display_data"
    }
   ],
   "source": [
    "imp = rfpimp.importances(forest, test_x, test_y) # permutation\n",
    "print(imp)\n",
    "viz = rfpimp.plot_importances(imp)\n",
    "viz.view()"
   ]
  }
 ],
 "metadata": {
  "kernelspec": {
   "display_name": "Python 3 (ipykernel)",
   "language": "python",
   "name": "python3"
  },
  "language_info": {
   "codemirror_mode": {
    "name": "ipython",
    "version": 3
   },
   "file_extension": ".py",
   "mimetype": "text/x-python",
   "name": "python",
   "nbconvert_exporter": "python",
   "pygments_lexer": "ipython3",
   "version": "3.8.12"
  }
 },
 "nbformat": 4,
 "nbformat_minor": 5
}
